{
 "cells": [
  {
   "cell_type": "markdown",
   "metadata": {},
   "source": [
    "<center style=\"color:#6495ED\">\n",
    "    <h1>\n",
    "        Workshop for Data Scientist Final Project <br />\n",
    "        Sequence Generation with Keras\n",
    "    </h1>\n",
    "    \n",
    "    <h2>\n",
    "        By Alon Galperin & Matan Yeshurun\n",
    "    </h2>\n",
    "</center>"
   ]
  },
  {
   "cell_type": "markdown",
   "metadata": {},
   "source": [
    "## Prerequisite for running the code\n",
    "\n",
    "1. Python 2.7.10\n",
    "2. Anaconda 2.7.14 (64-bit)\n",
    "3. Install Keras\n",
    "\n",
    "libraries import:"
   ]
  },
  {
   "cell_type": "code",
   "execution_count": 129,
   "metadata": {
    "collapsed": true
   },
   "outputs": [],
   "source": [
    "import pandas as pd\n",
    "import numpy as np\n",
    "import random\n",
    "from nltk.tokenize import WordPunctTokenizer\n",
    "from nltk.corpus import stopwords\n",
    "import string\n",
    "import matplotlib.pyplot as plt\n",
    "from nltk.stem import PorterStemmer\n",
    "from sklearn.model_selection import train_test_split\n",
    "from sklearn.feature_extraction.text import TfidfVectorizer\n",
    "from sklearn import preprocessing\n",
    "\n",
    "# algorithms:\n",
    "from sklearn.ensemble import RandomForestClassifier\n",
    "from sklearn.svm import LinearSVC\n",
    "from sklearn.naive_bayes import GaussianNB"
   ]
  },
  {
   "cell_type": "markdown",
   "metadata": {},
   "source": [
    "Our project is on the subject of song lyrics classification and generation.\n",
    "\n",
    "# Part A: Collecting Data  \n",
    "  \n",
    "We will use the Kaggle song corpus, given free in Kaggle website after login to the site:  \n",
    "https://www.kaggle.com/gyani95/380000-lyrics-from-metrolyrics/data\n",
    "  \n",
    "### Corpus Content:\n",
    "There are around 380,000+ lyrics in the data set from a lot of different artists from a lot of different genres arranged by year.  \n",
    "The corpus is provided as csv file.  \n",
    "__Structure:__  \n",
    "\n",
    "| Attribute | type |\n",
    "|:------------- |:------------- |\n",
    "| index      | numeric |\n",
    "| song      | string |\n",
    "| year      | numeric |\n",
    "| artist      | string |\n",
    "| genre      | string |\n",
    "| lyrics      | string |  "
   ]
  },
  {
   "cell_type": "markdown",
   "metadata": {},
   "source": [
    "Load the dataset from csv using Pandas"
   ]
  },
  {
   "cell_type": "code",
   "execution_count": 179,
   "metadata": {},
   "outputs": [
    {
     "name": "stdout",
     "output_type": "stream",
     "text": [
      "we loaded 362237 records\n"
     ]
    }
   ],
   "source": [
    "lyrics = pd.read_csv('./collected_from_internet/lyrics.csv')\n",
    "\n",
    "print('we loaded %d records' %len(lyrics))"
   ]
  },
  {
   "cell_type": "markdown",
   "metadata": {},
   "source": [
    "### Check the five records to see how the data looks"
   ]
  },
  {
   "cell_type": "code",
   "execution_count": 131,
   "metadata": {},
   "outputs": [
    {
     "name": "stdout",
     "output_type": "stream",
     "text": [
      "   index             song  year           artist genre  \\\n",
      "0      0        ego-remix  2009  beyonce-knowles   Pop   \n",
      "1      1     then-tell-me  2009  beyonce-knowles   Pop   \n",
      "2      2          honesty  2009  beyonce-knowles   Pop   \n",
      "3      3  you-are-my-rock  2009  beyonce-knowles   Pop   \n",
      "4      4    black-culture  2009  beyonce-knowles   Pop   \n",
      "\n",
      "                                              lyrics  \n",
      "0  Oh baby, how you doing?\\nYou know I'm gonna cu...  \n",
      "1  playin' everything so easy,\\nit's like you see...  \n",
      "2  If you search\\nFor tenderness\\nIt isn't hard t...  \n",
      "3  Oh oh oh I, oh oh oh I\\n[Verse 1:]\\nIf I wrote...  \n",
      "4  Party the people, the people the party it's po...  \n"
     ]
    }
   ],
   "source": [
    "print lyrics.head()"
   ]
  },
  {
   "cell_type": "markdown",
   "metadata": {},
   "source": [
    "### Check how many records there are with missing lyrics"
   ]
  },
  {
   "cell_type": "code",
   "execution_count": 132,
   "metadata": {},
   "outputs": [
    {
     "data": {
      "text/plain": [
       "index         0\n",
       "song          2\n",
       "year          0\n",
       "artist        0\n",
       "genre         0\n",
       "lyrics    95680\n",
       "dtype: int64"
      ]
     },
     "execution_count": 132,
     "metadata": {},
     "output_type": "execute_result"
    }
   ],
   "source": [
    "lyrics.apply(lambda x: sum(x.isnull()),axis=0)"
   ]
  },
  {
   "cell_type": "markdown",
   "metadata": {},
   "source": [
    "We can see that we have 95,680 records with missing lyrics.  \n",
    "We will Drop these records"
   ]
  },
  {
   "cell_type": "code",
   "execution_count": 133,
   "metadata": {},
   "outputs": [
    {
     "name": "stdout",
     "output_type": "stream",
     "text": [
      "now we have 266557 records\n"
     ]
    }
   ],
   "source": [
    "lyrics.dropna(subset=['lyrics'], inplace=True)\n",
    "\n",
    "print('now we have %d records' %len(lyrics))"
   ]
  },
  {
   "cell_type": "markdown",
   "metadata": {},
   "source": [
    "# The artists we want to classify are: Eminem, Beyonce-Knowles and Arctic-Monkeys"
   ]
  },
  {
   "cell_type": "markdown",
   "metadata": {},
   "source": [
    "Check how many songs of the artists we have:"
   ]
  },
  {
   "cell_type": "code",
   "execution_count": 134,
   "metadata": {},
   "outputs": [
    {
     "name": "stdout",
     "output_type": "stream",
     "text": [
      "Eminem has 578 songs\n",
      "Beyonce has 248 songs\n",
      "Arctic-Monkeys has 134 songs\n"
     ]
    }
   ],
   "source": [
    "print ('Eminem has %d songs' % len(lyrics.loc[lyrics['artist'] == 'eminem']))\n",
    "print ('Beyonce has %d songs' % len(lyrics.loc[lyrics['artist'] == 'beyonce-knowles']))\n",
    "print ('Arctic-Monkeys has %d songs' % len(lyrics.loc[lyrics['artist'] == 'arctic-monkeys']))"
   ]
  },
  {
   "cell_type": "markdown",
   "metadata": {},
   "source": [
    "We can see that the lowest number of songs is the number of Arctic Monkeys songs, so we will take **130** songs from each artist.  \n",
    "We will concat all the 3 artists lyrics to 1 dataset"
   ]
  },
  {
   "cell_type": "code",
   "execution_count": 135,
   "metadata": {},
   "outputs": [
    {
     "name": "stdout",
     "output_type": "stream",
     "text": [
      "our total songs has 390 songs\n"
     ]
    }
   ],
   "source": [
    "eminem_songs = lyrics.loc[lyrics['artist'] == 'eminem'][:130]\n",
    "\n",
    "beyonce_songs = lyrics.loc[lyrics['artist'] == 'beyonce-knowles'][:130]\n",
    "\n",
    "arctic_monkeys_songs = lyrics.loc[lyrics['artist'] == 'arctic-monkeys'][:130]\n",
    "\n",
    "total_songs = eminem_songs.append([beyonce_songs,arctic_monkeys_songs])\n",
    "print('our total songs has %d songs' % len(total_songs))"
   ]
  },
  {
   "cell_type": "code",
   "execution_count": 136,
   "metadata": {},
   "outputs": [
    {
     "name": "stdout",
     "output_type": "stream",
     "text": [
      "avg song length of Eminem chars: 3231 words: 644\n",
      "avg song length of Beyonce chars: 1909 words 390\n",
      "avg song length of Arctic Monkeys chars: 1206 words: 234\n"
     ]
    }
   ],
   "source": [
    "def avg_song_chars_count(lyrics):\n",
    "    sum_chars = 0\n",
    "    for index, row in lyrics.iterrows():\n",
    "        sum_chars += len(row['lyrics'])\n",
    "    return sum_chars / len(lyrics)\n",
    "\n",
    "def avg_song_word_count(lyrics):\n",
    "    sum_words = 0\n",
    "    for index, row in lyrics.iterrows():\n",
    "        sum_words += len(row['lyrics'].split())\n",
    "    return sum_words / len(lyrics)\n",
    "\n",
    "print ('avg song length of Eminem chars: %d words: %d' % (avg_song_chars_count(eminem_songs) , avg_song_word_count(eminem_songs)))\n",
    "print ('avg song length of Beyonce chars: %d words %d' % (avg_song_chars_count(beyonce_songs) , avg_song_word_count(beyonce_songs)))\n",
    "print ('avg song length of Arctic Monkeys chars: %d words: %d' % ( avg_song_chars_count(arctic_monkeys_songs) , avg_song_word_count(arctic_monkeys_songs)))"
   ]
  },
  {
   "cell_type": "markdown",
   "metadata": {},
   "source": [
    "## save songs to csv\n",
    "Maybe it will be usful in next stages"
   ]
  },
  {
   "cell_type": "code",
   "execution_count": 137,
   "metadata": {
    "collapsed": true
   },
   "outputs": [],
   "source": [
    "eminem_songs.to_csv('eminem_original.csv', sep=',')\n",
    "beyonce_songs.to_csv('beyonce_original.csv', sep=',')\n",
    "arctic_monkeys_songs.to_csv('arctic_original.csv', sep=',')"
   ]
  },
  {
   "cell_type": "markdown",
   "metadata": {},
   "source": [
    "## Data Preparation and Cleaning:  \n",
    "**The steps of preparation and cleaning are:**\n",
    "1.  Change the text format to uff-8.\n",
    "2.  Change the text to lower-case.\n",
    "3.  Tokenize the sentences to words token.\n",
    "4.  Stop words removal. We also remove puncuation (using python puncuation list string.punctuation)\n",
    "5.  Stem the words using Porter Stemmer.\n",
    "6.  Last step we will concat the sentence together"
   ]
  },
  {
   "cell_type": "code",
   "execution_count": 138,
   "metadata": {
    "collapsed": true
   },
   "outputs": [],
   "source": [
    "word_punct_tokenizer = WordPunctTokenizer() # from nltk.tokenize\n",
    "stop_words = stopwords.words('english') + list(string.punctuation)\n",
    "ps = PorterStemmer()\n",
    "\n",
    "def clean_and_prepare(text):\n",
    "    text = text.decode(\"utf-8\")\n",
    "    text = text.lower()\n",
    "    text_tokens = word_punct_tokenizer.tokenize(text)\n",
    "    meaningful_words  = [w for w in text_tokens if not w in stop_words]\n",
    "    stemmed_text = []\n",
    "    for word in meaningful_words :\n",
    "        stem = ps.stem(word)\n",
    "        stemmed_text.append(stem)\n",
    "    text = ' '.join(stemmed_text)\n",
    "    return text"
   ]
  },
  {
   "cell_type": "markdown",
   "metadata": {},
   "source": [
    "### Check how the dataset head lyrics look like before and after the preparation"
   ]
  },
  {
   "cell_type": "code",
   "execution_count": 139,
   "metadata": {
    "scrolled": true
   },
   "outputs": [
    {
     "name": "stdout",
     "output_type": "stream",
     "text": [
      "Before preparation:\n",
      "313004    Ya look\\nIf I were to rap about the crap that'...\n",
      "313005    All aboard, okay, next stop, my basement, haha...\n",
      "313006    You are now listening to the sounds of...Shady...\n",
      "313007    Yeah\\nMake my vocals sound sexy\\nCome on man, ...\n",
      "313008    Going back to the corner where I first saw you...\n",
      "Name: lyrics, dtype: object\n",
      "\n",
      "After preparation:\n",
      "313004    ya look rap crap rout probabl want take caus d...\n",
      "313005    aboard okay next stop basement haha meet say u...\n",
      "313006    listen sound ... shadi ... alchemist .. alchem...\n",
      "313007    yeah make vocal sound sexi come man come man o...\n",
      "313008    go back corner first saw gonna camp sleep bag ...\n",
      "Name: lyrics, dtype: object\n"
     ]
    }
   ],
   "source": [
    "print('Before preparation:')\n",
    "print total_songs['lyrics'].head()\n",
    "print('')\n",
    "\n",
    "# sending the lyrics column to preparation function\n",
    "for index, row in total_songs.iterrows():\n",
    "    total_songs.loc[index, \"lyrics\"] = clean_and_prepare(row['lyrics'])\n",
    "\n",
    "print('After preparation:')\n",
    "print total_songs['lyrics'].head()"
   ]
  },
  {
   "cell_type": "markdown",
   "metadata": {},
   "source": [
    "check avg length of song"
   ]
  },
  {
   "cell_type": "code",
   "execution_count": 140,
   "metadata": {},
   "outputs": [
    {
     "name": "stdout",
     "output_type": "stream",
     "text": [
      "avg song length of Eminem 1799\n",
      "avg song length of Beyonce 1054\n",
      "avg song length of Arctic Monkeys 622\n"
     ]
    }
   ],
   "source": [
    "eminem_songs = total_songs.loc[lyrics['artist'] == 'eminem']\n",
    "beyonce_songs = total_songs.loc[lyrics['artist'] == 'beyonce-knowles']\n",
    "arctic_songs = total_songs.loc[lyrics['artist'] == 'arctic-monkeys']\n",
    "\n",
    "def avg_song_length(lyrics):\n",
    "    sum = 0\n",
    "    for index, row in lyrics.iterrows():\n",
    "        sum += len(row['lyrics'])\n",
    "    return sum / 130\n",
    "\n",
    "print ('avg song length of Eminem %d' % avg_song_length(eminem_songs))\n",
    "print ('avg song length of Beyonce %d' % avg_song_length(beyonce_songs))\n",
    "print ('avg song length of Arctic Monkeys %d' % avg_song_length(arctic_songs))"
   ]
  },
  {
   "cell_type": "code",
   "execution_count": 141,
   "metadata": {},
   "outputs": [
    {
     "name": "stdout",
     "output_type": "stream",
     "text": [
      "390\n"
     ]
    }
   ],
   "source": [
    "print len(total_songs)"
   ]
  },
  {
   "cell_type": "markdown",
   "metadata": {},
   "source": [
    "# Part B: Building Models and Classification"
   ]
  },
  {
   "cell_type": "markdown",
   "metadata": {},
   "source": [
    "first we shuffle the records in the dataset. So we have mix of artists in the train and test set"
   ]
  },
  {
   "cell_type": "code",
   "execution_count": 142,
   "metadata": {
    "collapsed": true
   },
   "outputs": [],
   "source": [
    "total_songs = total_songs.reindex(np.random.permutation(total_songs.index))"
   ]
  },
  {
   "cell_type": "markdown",
   "metadata": {},
   "source": [
    "### Split the dataset to train and test sets:"
   ]
  },
  {
   "cell_type": "code",
   "execution_count": 143,
   "metadata": {
    "collapsed": true
   },
   "outputs": [],
   "source": [
    "df_train, df_test = train_test_split(total_songs, test_size=0.2)\n",
    "\n",
    "x_train = df_train['lyrics']\n",
    "y_train = df_train['artist']\n",
    "\n",
    "x_test = df_test['lyrics']\n",
    "y_test = df_test['artist']"
   ]
  },
  {
   "cell_type": "code",
   "execution_count": 144,
   "metadata": {},
   "outputs": [
    {
     "name": "stdout",
     "output_type": "stream",
     "text": [
      "number of records in train: 312\n",
      "number of records in test: 78\n"
     ]
    }
   ],
   "source": [
    "print('number of records in train: %d' %len(df_train))\n",
    "print('number of records in test: %d' %len(df_test))"
   ]
  },
  {
   "cell_type": "markdown",
   "metadata": {},
   "source": [
    "## Prepare the data for classification algorithms\n",
    "### We will transform the data from domain of words(strings) to numric domain.\n",
    "The reason is that almost all of the algorithms can handle only numric input and not string.  \n",
    "The method that we are going to use called TFIDF (as learned in lesson 12).  \n",
    "TFIDF will convert the domain from world of string and words to world of ** document frequency**. The number is  \n",
    "the matrix will represent statistic that will reflect how important a word is to the songs collection.  \n",
    "  \n",
    "**Also**  the matrix will be sparse, that mean that it be effient in space and it won't have entries for values  \n",
    "that are null in the frequency table.  \n",
    "We won't define value for this, we let the TFIDF algorithm decide what is the best configuration for this value.  \n",
    "That is since we didn't dive to deep to  this subject during our course and we don't what to set a value that is to small for  \n",
    "the english dictionary."
   ]
  },
  {
   "cell_type": "code",
   "execution_count": 145,
   "metadata": {
    "collapsed": true
   },
   "outputs": [],
   "source": [
    "tfidfVectorizer = TfidfVectorizer()\n",
    "\n",
    "x_train = tfidfVectorizer.fit_transform(x_train)\n",
    "x_test = tfidfVectorizer.transform(x_test)"
   ]
  },
  {
   "cell_type": "markdown",
   "metadata": {},
   "source": [
    "print the x_train details:"
   ]
  },
  {
   "cell_type": "code",
   "execution_count": 146,
   "metadata": {},
   "outputs": [
    {
     "data": {
      "text/plain": [
       "<312x7198 sparse matrix of type '<type 'numpy.float64'>'\n",
       "\twith 35285 stored elements in Compressed Sparse Row format>"
      ]
     },
     "execution_count": 146,
     "metadata": {},
     "output_type": "execute_result"
    }
   ],
   "source": [
    "x_train"
   ]
  },
  {
   "cell_type": "markdown",
   "metadata": {},
   "source": [
    "### Change target attribute from words to numbers\n",
    "In this step we will change the values in the target attribute from words (strings)  \n",
    "to numric.  \n",
    "Example: If we have target attribute of singers so we will change each singer name with a number  \n",
    "Ed Sheeran -> 1  \n",
    "The Cranberries -> 2  \n",
    "Metallica -> 3  \n",
    "  \n",
    "We will use LabelEncoder of NLTK to do this task (as learned in lesson 8)."
   ]
  },
  {
   "cell_type": "code",
   "execution_count": 147,
   "metadata": {
    "collapsed": true
   },
   "outputs": [],
   "source": [
    "le = preprocessing.LabelEncoder()\n",
    "\n",
    "y_train = le.fit_transform(y_train)\n",
    "y_test = le.transform(y_test)"
   ]
  },
  {
   "cell_type": "code",
   "execution_count": 148,
   "metadata": {},
   "outputs": [
    {
     "data": {
      "text/plain": [
       "['arctic-monkeys', 'beyonce-knowles', 'eminem']"
      ]
     },
     "execution_count": 148,
     "metadata": {},
     "output_type": "execute_result"
    }
   ],
   "source": [
    "list(le.classes_)"
   ]
  },
  {
   "cell_type": "markdown",
   "metadata": {
    "collapsed": true
   },
   "source": [
    "## Train and Test using Classification Algorithms:\n",
    "### Random Forest:"
   ]
  },
  {
   "cell_type": "code",
   "execution_count": 149,
   "metadata": {
    "collapsed": true
   },
   "outputs": [],
   "source": [
    "algorithm_results = [] # array that will contain the results of the algorithms"
   ]
  },
  {
   "cell_type": "code",
   "execution_count": 150,
   "metadata": {},
   "outputs": [
    {
     "data": {
      "text/plain": [
       "RandomForestClassifier(bootstrap=True, class_weight=None, criterion='gini',\n",
       "            max_depth=None, max_features='auto', max_leaf_nodes=None,\n",
       "            min_impurity_decrease=0.0, min_impurity_split=None,\n",
       "            min_samples_leaf=1, min_samples_split=2,\n",
       "            min_weight_fraction_leaf=0.0, n_estimators=100, n_jobs=1,\n",
       "            oob_score=False, random_state=None, verbose=0,\n",
       "            warm_start=False)"
      ]
     },
     "execution_count": 150,
     "metadata": {},
     "output_type": "execute_result"
    }
   ],
   "source": [
    "random_forest = RandomForestClassifier(n_estimators=100)\n",
    "\n",
    "random_forest.fit(x_train, y_train)"
   ]
  },
  {
   "cell_type": "markdown",
   "metadata": {},
   "source": [
    "#### Predict and get the score of Random Forest:"
   ]
  },
  {
   "cell_type": "code",
   "execution_count": 151,
   "metadata": {
    "scrolled": false
   },
   "outputs": [
    {
     "name": "stdout",
     "output_type": "stream",
     "text": [
      "the score is: 0.858974\n"
     ]
    }
   ],
   "source": [
    "score = random_forest.score(x_test, y_test)\n",
    "print ('the score is: %f'  %score)\n",
    "\n",
    "algorithm_results.append(('Random Forest', score))"
   ]
  },
  {
   "cell_type": "markdown",
   "metadata": {
    "collapsed": true
   },
   "source": [
    "### LinearSVC:\n",
    "This is variation of Support Vector Machine, considered to work well on text classification"
   ]
  },
  {
   "cell_type": "code",
   "execution_count": 152,
   "metadata": {},
   "outputs": [
    {
     "data": {
      "text/plain": [
       "LinearSVC(C=1.0, class_weight=None, dual=False, fit_intercept=True,\n",
       "     intercept_scaling=1, loss='squared_hinge', max_iter=1000,\n",
       "     multi_class='ovr', penalty='l1', random_state=None, tol=0.001,\n",
       "     verbose=0)"
      ]
     },
     "execution_count": 152,
     "metadata": {},
     "output_type": "execute_result"
    }
   ],
   "source": [
    "svc = LinearSVC(penalty=\"l1\", dual=False, tol=1e-3)\n",
    "svc.fit(x_train, y_train)"
   ]
  },
  {
   "cell_type": "markdown",
   "metadata": {},
   "source": [
    "#### Predict and get the score of LinearSVC:"
   ]
  },
  {
   "cell_type": "code",
   "execution_count": 153,
   "metadata": {},
   "outputs": [
    {
     "name": "stdout",
     "output_type": "stream",
     "text": [
      "the score is: 0.730769\n"
     ]
    }
   ],
   "source": [
    "score = svc.score(x_test, y_test)\n",
    "print ('the score is: %f'  %score)\n",
    "\n",
    "algorithm_results.append(('LinearSVC', score))"
   ]
  },
  {
   "cell_type": "markdown",
   "metadata": {},
   "source": [
    "### Naive Bayes using Gaussian function (GaussianNB)"
   ]
  },
  {
   "cell_type": "code",
   "execution_count": 154,
   "metadata": {},
   "outputs": [
    {
     "data": {
      "text/plain": [
       "GaussianNB(priors=None)"
      ]
     },
     "execution_count": 154,
     "metadata": {},
     "output_type": "execute_result"
    }
   ],
   "source": [
    "gaussianNB = GaussianNB()\n",
    "\n",
    "x_train_not_dense = x_train.toarray() # Naive Bayes not working on dense matries\n",
    "\n",
    "gaussianNB.fit(x_train_not_dense, y_train)"
   ]
  },
  {
   "cell_type": "markdown",
   "metadata": {},
   "source": [
    "#### Predict and get the score of Naive Baye:"
   ]
  },
  {
   "cell_type": "code",
   "execution_count": 155,
   "metadata": {},
   "outputs": [
    {
     "name": "stdout",
     "output_type": "stream",
     "text": [
      "the score is: 0.474359\n"
     ]
    }
   ],
   "source": [
    "x_test_not_dense = x_test.toarray() # Naive Bayes not working on dense matries\n",
    "\n",
    "score = gaussianNB.score(x_test_not_dense, y_test)\n",
    "print ('the score is: %f'  %score)\n",
    "\n",
    "algorithm_results.append(('GaussianNB', score))"
   ]
  },
  {
   "cell_type": "markdown",
   "metadata": {},
   "source": [
    "### Nural Network (not Keras)"
   ]
  },
  {
   "cell_type": "code",
   "execution_count": 156,
   "metadata": {},
   "outputs": [
    {
     "data": {
      "text/plain": [
       "MLPClassifier(activation='relu', alpha=1e-05, batch_size='auto', beta_1=0.9,\n",
       "       beta_2=0.999, early_stopping=False, epsilon=1e-08,\n",
       "       hidden_layer_sizes=(5, 2), learning_rate='constant',\n",
       "       learning_rate_init=0.001, max_iter=200, momentum=0.9,\n",
       "       nesterovs_momentum=True, power_t=0.5, random_state=1, shuffle=True,\n",
       "       solver='lbfgs', tol=0.0001, validation_fraction=0.1, verbose=False,\n",
       "       warm_start=False)"
      ]
     },
     "execution_count": 156,
     "metadata": {},
     "output_type": "execute_result"
    }
   ],
   "source": [
    "from sklearn.neural_network import MLPClassifier\n",
    "mlpClassifier = MLPClassifier(solver='lbfgs', alpha=1e-5, hidden_layer_sizes=(5, 2), random_state=1)\n",
    "mlpClassifier.fit(x_train, y_train)"
   ]
  },
  {
   "cell_type": "markdown",
   "metadata": {},
   "source": [
    "#### Predict and get the score of Nural network:"
   ]
  },
  {
   "cell_type": "code",
   "execution_count": 157,
   "metadata": {},
   "outputs": [
    {
     "name": "stdout",
     "output_type": "stream",
     "text": [
      "the score is: 0.782051\n"
     ]
    }
   ],
   "source": [
    "x_test_not_dense = x_test.toarray() # mlpClassifier not working on dense matries so we enter the original x_test\n",
    "\n",
    "score = mlpClassifier.score(x_test_not_dense, y_test)\n",
    "print ('the score is: %f'  %score)\n",
    "\n",
    "algorithm_results.append(('Nural network', score))"
   ]
  },
  {
   "cell_type": "markdown",
   "metadata": {},
   "source": [
    "### Plot results comparison:"
   ]
  },
  {
   "cell_type": "code",
   "execution_count": 158,
   "metadata": {
    "scrolled": true
   },
   "outputs": [
    {
     "data": {
      "image/png": "[encoded data removed]",
      "text/plain": [
       "<matplotlib.figure.Figure at 0x174e83c8>"
      ]
     },
     "metadata": {},
     "output_type": "display_data"
    }
   ],
   "source": [
    "algorithm_results.sort(key=lambda tup: tup[0])  # sorts in place\n",
    "\n",
    "indices = np.arange(len(algorithm_results))\n",
    "results = [[x[i] for x in algorithm_results] for i in range(2)]\n",
    "\n",
    "clf_names, score = results\n",
    "\n",
    "plt.figure(figsize=(12, 8))\n",
    "plt.title(\"Score\")\n",
    "plt.barh(indices, score, .2, label=\"score\", color='darkorange')\n",
    "plt.yticks(())\n",
    "plt.legend(loc='best')\n",
    "plt.subplots_adjust(left=.25)\n",
    "plt.subplots_adjust(top=.95)\n",
    "plt.subplots_adjust(bottom=.05)\n",
    "\n",
    "for i, c in zip(indices, clf_names):\n",
    "    plt.text(-.3, i, c)\n",
    "\n",
    "plt.show()"
   ]
  },
  {
   "cell_type": "markdown",
   "metadata": {},
   "source": [
    "We can see that Random Forest is leading with the best score"
   ]
  },
  {
   "cell_type": "markdown",
   "metadata": {},
   "source": [
    "# Part C Songs Generation"
   ]
  },
  {
   "cell_type": "markdown",
   "metadata": {
    "collapsed": true
   },
   "source": [
    "import keras\n",
    "from keras.models import Sequential\n",
    "from keras.layers import Activation,LSTM,Dense\n",
    "from keras.optimizers import Adam"
   ]
  },
  {
   "cell_type": "markdown",
   "metadata": {},
   "source": [
    "### Read All Songs"
   ]
  },
  {
   "cell_type": "code",
   "execution_count": null,
   "metadata": {
    "collapsed": true
   },
   "outputs": [],
   "source": [
    "all_songs_original = pd.read_csv('./collected_from_internet/lyrics.csv')"
   ]
  },
  {
   "cell_type": "markdown",
   "metadata": {},
   "source": [
    "Create array of 50 songs"
   ]
  },
  {
   "cell_type": "code",
   "execution_count": null,
   "metadata": {
    "collapsed": true
   },
   "outputs": [],
   "source": [
    "ds = all_songs_original.loc[all_songs_original['artist'] == 'arctic-monkeys']\n",
    "ds = ds['lyrics']\n",
    "ds = ds [:50]\n",
    "songs_lyrics_array = np.array(ds)"
   ]
  },
  {
   "cell_type": "markdown",
   "metadata": {},
   "source": [
    "concat all lyrics to one text"
   ]
  },
  {
   "cell_type": "code",
   "execution_count": null,
   "metadata": {
    "collapsed": true
   },
   "outputs": [],
   "source": [
    "txt=''\n",
    "for ix in range(len(songs_lyrics_array)):\n",
    "    try:\n",
    "        txt+=songs_lyrics_array[ix]\n",
    "    except:\n",
    "        print ('cant read: ')\n",
    "        print (songs_lyrics_array[ix])"
   ]
  },
  {
   "cell_type": "markdown",
   "metadata": {},
   "source": [
    "Create vocab"
   ]
  },
  {
   "cell_type": "code",
   "execution_count": null,
   "metadata": {
    "collapsed": true
   },
   "outputs": [],
   "source": [
    "vocab=list(set(txt))\n",
    "char_ix={c:i for i,c in enumerate(vocab)}\n",
    "ix_char={i:c for i,c in enumerate(vocab)}"
   ]
  },
  {
   "cell_type": "code",
   "execution_count": null,
   "metadata": {
    "collapsed": true
   },
   "outputs": [],
   "source": [
    "maxlen=40\n",
    "vocab_size=len(vocab)"
   ]
  },
  {
   "cell_type": "code",
   "execution_count": null,
   "metadata": {
    "collapsed": true
   },
   "outputs": [],
   "source": [
    "sentences=[]\n",
    "next_char=[]\n",
    "for i in range(len(txt)-maxlen-1):\n",
    "    sentences.append(txt[i:i+maxlen])\n",
    "    next_char.append(txt[i+maxlen])"
   ]
  },
  {
   "cell_type": "code",
   "execution_count": null,
   "metadata": {
    "collapsed": true
   },
   "outputs": [],
   "source": [
    "X=np.zeros((len(sentences),maxlen,vocab_size))\n",
    "y=np.zeros((len(sentences),vocab_size))\n",
    "for ix in range(len(sentences)):\n",
    "    y[ix,char_ix[next_char[ix]]]=1\n",
    "    for iy in range(maxlen):\n",
    "        X[ix,iy,char_ix[sentences[ix][iy]]]=1"
   ]
  },
  {
   "cell_type": "code",
   "execution_count": null,
   "metadata": {
    "collapsed": true
   },
   "outputs": [],
   "source": [
    "model=Sequential()\n",
    "model.add(LSTM(128,input_shape=(maxlen,vocab_size)))\n",
    "model.add(Dense(vocab_size))\n",
    "model.add(Activation('softmax'))\n",
    "model.summary()\n",
    "model.compile(optimizer=Adam(lr=0.01),loss='categorical_crossentropy')"
   ]
  },
  {
   "cell_type": "code",
   "execution_count": null,
   "metadata": {
    "collapsed": true
   },
   "outputs": [],
   "source": [
    "model.fit(X,y,epochs=20,batch_size=128)"
   ]
  },
  {
   "cell_type": "code",
   "execution_count": null,
   "metadata": {
    "collapsed": true
   },
   "outputs": [],
   "source": [
    "def generate_song():\n",
    "    generated=''\n",
    "    start_index=random.randint(0,len(txt)-maxlen-1)\n",
    "    sent=txt[start_index:start_index+maxlen]\n",
    "    generated+=sent\n",
    "    for i in range(1900):\n",
    "        x_sample=generated[i:i+maxlen]\n",
    "        x=np.zeros((1,maxlen,vocab_size))\n",
    "        for j in range(maxlen):\n",
    "            x[0,j,char_ix[x_sample[j]]]=1\n",
    "        probs=model.predict(x)\n",
    "        probs=np.reshape(probs,probs.shape[1])\n",
    "        ix=np.random.choice(range(vocab_size),p=probs.ravel())\n",
    "        generated+=ix_char[ix]\n",
    "    return generated"
   ]
  },
  {
   "cell_type": "code",
   "execution_count": null,
   "metadata": {
    "collapsed": true
   },
   "outputs": [],
   "source": [
    "df_songs_generated = pd.DataFrame(columns=['lyrics'])\n",
    "counter = 0\n",
    "\n",
    "while (counter < 130):\n",
    "    generated_song = generate_song()\n",
    "    df_songs_generated.loc[counter] = generated_song\n",
    "    counter += 1\n",
    "    print (counter)"
   ]
  },
  {
   "cell_type": "code",
   "execution_count": null,
   "metadata": {
    "collapsed": true
   },
   "outputs": [],
   "source": [
    "df_songs_generated.to_csv('./generated_songs/arctic-monkeys_song_generated.csv', sep=',')"
   ]
  },
  {
   "cell_type": "markdown",
   "metadata": {},
   "source": [
    "# Part D Run classification algorithm on generated songs"
   ]
  },
  {
   "cell_type": "code",
   "execution_count": 180,
   "metadata": {
    "collapsed": true
   },
   "outputs": [],
   "source": [
    "eminem_generated_songs = pd.read_csv('./generated_songs/eminem_song_generated.csv')\n",
    "beyonce_generated_songs = pd.read_csv('./generated_songs/beyonce-knowles_song_generated.csv')\n",
    "arctic_monkeys_generated_songs = pd.read_csv('./generated_songs/arctic-monkeys_song_generated.csv')"
   ]
  },
  {
   "cell_type": "code",
   "execution_count": 160,
   "metadata": {
    "collapsed": true
   },
   "outputs": [],
   "source": [
    "total_generated_songs = eminem_generated_songs.append([beyonce_generated_songs,arctic_monkeys_generated_songs])"
   ]
  },
  {
   "cell_type": "code",
   "execution_count": 161,
   "metadata": {
    "collapsed": true
   },
   "outputs": [],
   "source": [
    "total_generated_songs.reset_index(drop=True, inplace=True)"
   ]
  },
  {
   "cell_type": "code",
   "execution_count": 162,
   "metadata": {},
   "outputs": [
    {
     "data": {
      "text/html": [
       "<div>\n",
       "<style>\n",
       "    .dataframe thead tr:only-child th {\n",
       "        text-align: right;\n",
       "    }\n",
       "\n",
       "    .dataframe thead th {\n",
       "        text-align: left;\n",
       "    }\n",
       "\n",
       "    .dataframe tbody tr th {\n",
       "        vertical-align: top;\n",
       "    }\n",
       "</style>\n",
       "<table border=\"1\" class=\"dataframe\">\n",
       "  <thead>\n",
       "    <tr style=\"text-align: right;\">\n",
       "      <th></th>\n",
       "      <th>Unnamed: 0</th>\n",
       "      <th>artist</th>\n",
       "      <th>lyrics</th>\n",
       "    </tr>\n",
       "  </thead>\n",
       "  <tbody>\n",
       "    <tr>\n",
       "      <th>0</th>\n",
       "      <td>0.0</td>\n",
       "      <td>eminem</td>\n",
       "      <td>e there's fire, there's flames\\r\\nWhere the mo...</td>\n",
       "    </tr>\n",
       "    <tr>\n",
       "      <th>1</th>\n",
       "      <td>1.0</td>\n",
       "      <td>eminem</td>\n",
       "      <td>jump in mud puddles\\r\\nWhile I stomp mud havi...</td>\n",
       "    </tr>\n",
       "    <tr>\n",
       "      <th>2</th>\n",
       "      <td>2.0</td>\n",
       "      <td>eminem</td>\n",
       "      <td>round the bottom\\r\\nAnd make sure I got all R...</td>\n",
       "    </tr>\n",
       "    <tr>\n",
       "      <th>3</th>\n",
       "      <td>3.0</td>\n",
       "      <td>eminem</td>\n",
       "      <td>t holiday\\r\\nHave Michael Myers looking like i...</td>\n",
       "    </tr>\n",
       "    <tr>\n",
       "      <th>4</th>\n",
       "      <td>4.0</td>\n",
       "      <td>eminem</td>\n",
       "      <td>you\\r\\nthe artificial flavors all around your...</td>\n",
       "    </tr>\n",
       "  </tbody>\n",
       "</table>\n",
       "</div>"
      ],
      "text/plain": [
       "   Unnamed: 0  artist                                             lyrics\n",
       "0         0.0  eminem  e there's fire, there's flames\\r\\nWhere the mo...\n",
       "1         1.0  eminem   jump in mud puddles\\r\\nWhile I stomp mud havi...\n",
       "2         2.0  eminem   round the bottom\\r\\nAnd make sure I got all R...\n",
       "3         3.0  eminem  t holiday\\r\\nHave Michael Myers looking like i...\n",
       "4         4.0  eminem   you\\r\\nthe artificial flavors all around your..."
      ]
     },
     "execution_count": 162,
     "metadata": {},
     "output_type": "execute_result"
    }
   ],
   "source": [
    "total_generated_songs.head()"
   ]
  },
  {
   "cell_type": "code",
   "execution_count": 163,
   "metadata": {
    "collapsed": true
   },
   "outputs": [],
   "source": [
    "total_generated_songs = total_generated_songs.reindex(np.random.permutation(total_generated_songs.index))"
   ]
  },
  {
   "cell_type": "code",
   "execution_count": 164,
   "metadata": {},
   "outputs": [
    {
     "data": {
      "text/html": [
       "<div>\n",
       "<style>\n",
       "    .dataframe thead tr:only-child th {\n",
       "        text-align: right;\n",
       "    }\n",
       "\n",
       "    .dataframe thead th {\n",
       "        text-align: left;\n",
       "    }\n",
       "\n",
       "    .dataframe tbody tr th {\n",
       "        vertical-align: top;\n",
       "    }\n",
       "</style>\n",
       "<table border=\"1\" class=\"dataframe\">\n",
       "  <thead>\n",
       "    <tr style=\"text-align: right;\">\n",
       "      <th></th>\n",
       "      <th>Unnamed: 0</th>\n",
       "      <th>artist</th>\n",
       "      <th>lyrics</th>\n",
       "    </tr>\n",
       "  </thead>\n",
       "  <tbody>\n",
       "    <tr>\n",
       "      <th>138</th>\n",
       "      <td>NaN</td>\n",
       "      <td>arctic-monkeys</td>\n",
       "      <td>your eyes\\r\\nWatching a stripper and\\r\\n(Smack...</td>\n",
       "    </tr>\n",
       "    <tr>\n",
       "      <th>117</th>\n",
       "      <td>NaN</td>\n",
       "      <td>arctic-monkeys</td>\n",
       "      <td>a slag\\r\\nThe best you ever had\\r\\nThe best y...</td>\n",
       "    </tr>\n",
       "    <tr>\n",
       "      <th>109</th>\n",
       "      <td>NaN</td>\n",
       "      <td>arctic-monkeys</td>\n",
       "      <td>\\r\\nBut you know what it's like to hold the sl...</td>\n",
       "    </tr>\n",
       "    <tr>\n",
       "      <th>115</th>\n",
       "      <td>NaN</td>\n",
       "      <td>arctic-monkeys</td>\n",
       "      <td>e you did\\r\\nWell I went outside, couldn't see...</td>\n",
       "    </tr>\n",
       "    <tr>\n",
       "      <th>49</th>\n",
       "      <td>49.0</td>\n",
       "      <td>eminem</td>\n",
       "      <td>studio i gotta get a take done put all and tw...</td>\n",
       "    </tr>\n",
       "  </tbody>\n",
       "</table>\n",
       "</div>"
      ],
      "text/plain": [
       "     Unnamed: 0          artist  \\\n",
       "138         NaN  arctic-monkeys   \n",
       "117         NaN  arctic-monkeys   \n",
       "109         NaN  arctic-monkeys   \n",
       "115         NaN  arctic-monkeys   \n",
       "49         49.0          eminem   \n",
       "\n",
       "                                                lyrics  \n",
       "138  your eyes\\r\\nWatching a stripper and\\r\\n(Smack...  \n",
       "117   a slag\\r\\nThe best you ever had\\r\\nThe best y...  \n",
       "109  \\r\\nBut you know what it's like to hold the sl...  \n",
       "115  e you did\\r\\nWell I went outside, couldn't see...  \n",
       "49    studio i gotta get a take done put all and tw...  "
      ]
     },
     "execution_count": 164,
     "metadata": {},
     "output_type": "execute_result"
    }
   ],
   "source": [
    "total_generated_songs.head()"
   ]
  },
  {
   "cell_type": "code",
   "execution_count": 165,
   "metadata": {
    "collapsed": true
   },
   "outputs": [],
   "source": [
    "# sending the lyrics column to preparation function\n",
    "for index, row in total_generated_songs.iterrows():\n",
    "    total_generated_songs.loc[index, \"lyrics\"] = clean_and_prepare(row['lyrics'])"
   ]
  },
  {
   "cell_type": "code",
   "execution_count": 166,
   "metadata": {
    "collapsed": true
   },
   "outputs": [],
   "source": [
    "x_test = total_generated_songs['lyrics']"
   ]
  },
  {
   "cell_type": "code",
   "execution_count": 167,
   "metadata": {
    "collapsed": true
   },
   "outputs": [],
   "source": [
    "# print ((x_test))"
   ]
  },
  {
   "cell_type": "code",
   "execution_count": 168,
   "metadata": {
    "collapsed": true
   },
   "outputs": [],
   "source": [
    "x_test = tfidfVectorizer.transform(x_test)"
   ]
  },
  {
   "cell_type": "code",
   "execution_count": 169,
   "metadata": {},
   "outputs": [],
   "source": [
    "y_test = total_generated_songs['artist']\n",
    "y_test = le.transform(y_test)"
   ]
  },
  {
   "cell_type": "code",
   "execution_count": 170,
   "metadata": {},
   "outputs": [
    {
     "name": "stdout",
     "output_type": "stream",
     "text": [
      "[0 0 0 0 2 0 2 1 2 0 1 0 2 0 2 0 1 2 1 0 0 2 2 2 1 2 1 2 1 1 0 1 0 1 0 1 0\n",
      " 2 2 0 0 0 1 2 1 1 1 1 0 1 1 2 2 0 0 0 1 2 1 2 2 1 0 0 0 0 2 2 2 2 0 2 0 0\n",
      " 0 0 1 1 2 0 2 0 2 1 1 2 2 0 2 0 0 2 1 2 0 1 2 0 1 1 1 0 0 1 1 2 1 2 0 1 1\n",
      " 2 0 2 2 1 1 2 2 2 1 1 2 0 1 1 0 2 0 1 2 2 1 0 0 2 0 1 2 2 2 2 1 0 1 0 1 1\n",
      " 1 1]\n"
     ]
    }
   ],
   "source": [
    "print ((y_test))"
   ]
  },
  {
   "cell_type": "code",
   "execution_count": 171,
   "metadata": {
    "collapsed": true
   },
   "outputs": [],
   "source": [
    "# lst = []\n",
    "# cols = ['artist']\n",
    "\n",
    "# for x in range(0, 50):\n",
    "#     lst.append('eminem')\n",
    "    \n",
    "# y_test = pd.DataFrame(lst, columns=cols)"
   ]
  },
  {
   "cell_type": "code",
   "execution_count": 172,
   "metadata": {
    "collapsed": true
   },
   "outputs": [],
   "source": [
    "# y_test = le.transform(y_test)\n",
    "# y_test"
   ]
  },
  {
   "cell_type": "code",
   "execution_count": 173,
   "metadata": {},
   "outputs": [
    {
     "name": "stdout",
     "output_type": "stream",
     "text": [
      "the score is: 0.953333\n"
     ]
    }
   ],
   "source": [
    "score = random_forest.score(x_test, y_test)\n",
    "print ('the score is: %f'  %score)"
   ]
  },
  {
   "cell_type": "code",
   "execution_count": 174,
   "metadata": {
    "collapsed": true
   },
   "outputs": [],
   "source": [
    "y_pred = random_forest.predict(x_test)"
   ]
  },
  {
   "cell_type": "code",
   "execution_count": 175,
   "metadata": {},
   "outputs": [
    {
     "name": "stdout",
     "output_type": "stream",
     "text": [
      "[0 0 0 0 2 0 2 1 2 0 1 0 2 0 2 0 1 2 1 1 0 2 2 2 1 2 1 2 1 1 0 1 0 1 0 1 0\n",
      " 2 2 0 0 0 1 2 1 1 1 1 0 1 1 2 2 1 0 0 1 2 1 2 2 1 0 0 0 0 2 2 2 2 0 2 1 0\n",
      " 0 1 1 1 2 0 2 0 2 1 1 0 2 0 2 0 0 2 1 2 0 1 2 0 1 1 1 0 0 1 1 2 1 1 0 1 1\n",
      " 0 0 2 2 1 1 2 2 2 1 1 2 0 1 1 0 2 0 1 2 2 1 0 0 2 0 1 2 2 2 2 1 0 1 0 1 1\n",
      " 1 1]\n"
     ]
    }
   ],
   "source": [
    "print (y_pred)"
   ]
  },
  {
   "cell_type": "code",
   "execution_count": 176,
   "metadata": {
    "collapsed": true
   },
   "outputs": [],
   "source": [
    "from sklearn.metrics import confusion_matrix"
   ]
  },
  {
   "cell_type": "code",
   "execution_count": 177,
   "metadata": {},
   "outputs": [
    {
     "data": {
      "text/plain": [
       "array([[46,  4,  0],\n",
       "       [ 0, 50,  0],\n",
       "       [ 2,  1, 47]], dtype=int64)"
      ]
     },
     "execution_count": 177,
     "metadata": {},
     "output_type": "execute_result"
    }
   ],
   "source": [
    "y_true = y_test\n",
    "confusion_matrix(y_true, y_pred)"
   ]
  },
  {
   "cell_type": "code",
   "execution_count": 178,
   "metadata": {},
   "outputs": [
    {
     "name": "stdout",
     "output_type": "stream",
     "text": [
      "Confusion matrix, without normalization\n",
      "[[46  4  0]\n",
      " [ 0 50  0]\n",
      " [ 2  1 47]]\n",
      "Normalized confusion matrix\n",
      "[[ 0.92  0.08  0.  ]\n",
      " [ 0.    1.    0.  ]\n",
      " [ 0.04  0.02  0.94]]\n"
     ]
    },
    {
     "data": {
      "image/png": "[encoded data removed]",
      "text/plain": [
       "<matplotlib.figure.Figure at 0x3124aba8>"
      ]
     },
     "metadata": {},
     "output_type": "display_data"
    },
    {
     "data": {
      "image/png": "[encoded data removed]",
      "text/plain": [
       "<matplotlib.figure.Figure at 0x2a558c18>"
      ]
     },
     "metadata": {},
     "output_type": "display_data"
    }
   ],
   "source": [
    "import itertools\n",
    "import numpy as np\n",
    "import matplotlib.pyplot as plt\n",
    "\n",
    "from sklearn import svm, datasets\n",
    "from sklearn.model_selection import train_test_split\n",
    "from sklearn.metrics import confusion_matrix\n",
    "\n",
    "class_names = list(le.classes_)\n",
    "\n",
    "def plot_confusion_matrix(cm, classes,\n",
    "                          normalize=False,\n",
    "                          title='Confusion matrix',\n",
    "                          cmap=plt.cm.Blues):\n",
    "    \"\"\"\n",
    "    This function prints and plots the confusion matrix.\n",
    "    Normalization can be applied by setting `normalize=True`.\n",
    "    \"\"\"\n",
    "    if normalize:\n",
    "        cm = cm.astype('float') / cm.sum(axis=1)[:, np.newaxis]\n",
    "        print(\"Normalized confusion matrix\")\n",
    "    else:\n",
    "        print('Confusion matrix, without normalization')\n",
    "\n",
    "    print(cm)\n",
    "\n",
    "    plt.imshow(cm, interpolation='nearest', cmap=cmap)\n",
    "    plt.title(title)\n",
    "    plt.colorbar()\n",
    "    tick_marks = np.arange(len(classes))\n",
    "    plt.xticks(tick_marks, classes, rotation=45)\n",
    "    plt.yticks(tick_marks, classes)\n",
    "\n",
    "    fmt = '.2f' if normalize else 'd'\n",
    "    thresh = cm.max() / 2.\n",
    "    for i, j in itertools.product(range(cm.shape[0]), range(cm.shape[1])):\n",
    "        plt.text(j, i, format(cm[i, j], fmt),\n",
    "                 horizontalalignment=\"center\",\n",
    "                 color=\"white\" if cm[i, j] > thresh else \"black\")\n",
    "\n",
    "    plt.tight_layout()\n",
    "    plt.ylabel('True label')\n",
    "    plt.xlabel('Predicted label')\n",
    "\n",
    "# Compute confusion matrix\n",
    "cnf_matrix = confusion_matrix(y_test, y_pred)\n",
    "np.set_printoptions(precision=2)\n",
    "\n",
    "# Plot non-normalized confusion matrix\n",
    "plt.figure()\n",
    "plot_confusion_matrix(cnf_matrix, classes=class_names,\n",
    "                      title='Confusion matrix, without normalization')\n",
    "\n",
    "# Plot normalized confusion matrix\n",
    "plt.figure()\n",
    "plot_confusion_matrix(cnf_matrix, classes=class_names, normalize=True,\n",
    "                      title='Normalized confusion matrix')\n",
    "\n",
    "plt.show()"
   ]
  },
  {
   "cell_type": "code",
   "execution_count": null,
   "metadata": {
    "collapsed": true
   },
   "outputs": [],
   "source": []
  },
  {
   "cell_type": "code",
   "execution_count": null,
   "metadata": {
    "collapsed": true
   },
   "outputs": [],
   "source": []
  }
 ],
 "metadata": {
  "kernelspec": {
   "display_name": "Python 2",
   "language": "python",
   "name": "python2"
  },
  "language_info": {
   "codemirror_mode": {
    "name": "ipython",
    "version": 2
   },
   "file_extension": ".py",
   "mimetype": "text/x-python",
   "name": "python",
   "nbconvert_exporter": "python",
   "pygments_lexer": "ipython2",
   "version": "2.7.14"
  }
 },
 "nbformat": 4,
 "nbformat_minor": 2
}
